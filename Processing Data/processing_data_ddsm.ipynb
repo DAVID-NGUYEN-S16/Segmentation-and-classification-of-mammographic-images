{
 "cells": [
  {
   "cell_type": "code",
   "execution_count": 70,
   "metadata": {},
   "outputs": [],
   "source": [
    "import cv2\n",
    "from PIL import Image, ImageOps\n",
    "import argparse\n",
    "import os\n",
    "import glob\n",
    "import matplotlib.pyplot as plt\n",
    "import multiprocessing as mp\n",
    "from joblib import Parallel, delayed\n",
    "from sklearn.model_selection import train_test_split\n",
    "\n",
    "import pydicom\n",
    "import time\n",
    "import numpy as np\n",
    "import torch\n",
    "import random\n",
    "import pandas as pd\n",
    "from pydicom.pixel_data_handlers import apply_windowing\n",
    "import imageio\n",
    "import time\n",
    "from tqdm.notebook import tqdm\n",
    "import shutil"
   ]
  },
  {
   "cell_type": "code",
   "execution_count": 71,
   "metadata": {},
   "outputs": [
    {
     "data": {
      "text/html": [
       "<div>\n",
       "<style scoped>\n",
       "    .dataframe tbody tr th:only-of-type {\n",
       "        vertical-align: middle;\n",
       "    }\n",
       "\n",
       "    .dataframe tbody tr th {\n",
       "        vertical-align: top;\n",
       "    }\n",
       "\n",
       "    .dataframe thead th {\n",
       "        text-align: right;\n",
       "    }\n",
       "</style>\n",
       "<table border=\"1\" class=\"dataframe\">\n",
       "  <thead>\n",
       "    <tr style=\"text-align: right;\">\n",
       "      <th></th>\n",
       "      <th>Unnamed: 0</th>\n",
       "      <th>Image</th>\n",
       "      <th>status</th>\n",
       "    </tr>\n",
       "  </thead>\n",
       "  <tbody>\n",
       "    <tr>\n",
       "      <th>0</th>\n",
       "      <td>5</td>\n",
       "      <td>DDSM Dataset/Malignant Masses\\D1_A_1010_1.RIGH...</td>\n",
       "      <td>1</td>\n",
       "    </tr>\n",
       "    <tr>\n",
       "      <th>1</th>\n",
       "      <td>11</td>\n",
       "      <td>DDSM Dataset/Malignant Masses\\D1_A_1010_1.RIGH...</td>\n",
       "      <td>1</td>\n",
       "    </tr>\n",
       "    <tr>\n",
       "      <th>2</th>\n",
       "      <td>17</td>\n",
       "      <td>DDSM Dataset/Malignant Masses\\D1_A_1020_1.LEFT...</td>\n",
       "      <td>1</td>\n",
       "    </tr>\n",
       "    <tr>\n",
       "      <th>3</th>\n",
       "      <td>23</td>\n",
       "      <td>DDSM Dataset/Malignant Masses\\D1_A_1020_1.LEFT...</td>\n",
       "      <td>1</td>\n",
       "    </tr>\n",
       "    <tr>\n",
       "      <th>4</th>\n",
       "      <td>29</td>\n",
       "      <td>DDSM Dataset/Malignant Masses\\D1_A_1048_1.RIGH...</td>\n",
       "      <td>1</td>\n",
       "    </tr>\n",
       "    <tr>\n",
       "      <th>...</th>\n",
       "      <td>...</td>\n",
       "      <td>...</td>\n",
       "      <td>...</td>\n",
       "    </tr>\n",
       "    <tr>\n",
       "      <th>2183</th>\n",
       "      <td>13103</td>\n",
       "      <td>DDSM Dataset/Benign Masses\\D4_C_0478_1.RIGHT_M...</td>\n",
       "      <td>0</td>\n",
       "    </tr>\n",
       "    <tr>\n",
       "      <th>2184</th>\n",
       "      <td>13109</td>\n",
       "      <td>DDSM Dataset/Benign Masses\\D4_D_4079_1.RIGHT_C...</td>\n",
       "      <td>0</td>\n",
       "    </tr>\n",
       "    <tr>\n",
       "      <th>2185</th>\n",
       "      <td>13115</td>\n",
       "      <td>DDSM Dataset/Benign Masses\\D4_D_4079_1.RIGHT_M...</td>\n",
       "      <td>0</td>\n",
       "    </tr>\n",
       "    <tr>\n",
       "      <th>2186</th>\n",
       "      <td>13121</td>\n",
       "      <td>DDSM Dataset/Benign Masses\\D4_D_4092_1.LEFT_CC...</td>\n",
       "      <td>0</td>\n",
       "    </tr>\n",
       "    <tr>\n",
       "      <th>2187</th>\n",
       "      <td>13127</td>\n",
       "      <td>DDSM Dataset/Benign Masses\\D4_D_4092_1.LEFT_ML...</td>\n",
       "      <td>0</td>\n",
       "    </tr>\n",
       "  </tbody>\n",
       "</table>\n",
       "<p>2188 rows × 3 columns</p>\n",
       "</div>"
      ],
      "text/plain": [
       "      Unnamed: 0                                              Image  status\n",
       "0              5  DDSM Dataset/Malignant Masses\\D1_A_1010_1.RIGH...       1\n",
       "1             11  DDSM Dataset/Malignant Masses\\D1_A_1010_1.RIGH...       1\n",
       "2             17  DDSM Dataset/Malignant Masses\\D1_A_1020_1.LEFT...       1\n",
       "3             23  DDSM Dataset/Malignant Masses\\D1_A_1020_1.LEFT...       1\n",
       "4             29  DDSM Dataset/Malignant Masses\\D1_A_1048_1.RIGH...       1\n",
       "...          ...                                                ...     ...\n",
       "2183       13103  DDSM Dataset/Benign Masses\\D4_C_0478_1.RIGHT_M...       0\n",
       "2184       13109  DDSM Dataset/Benign Masses\\D4_D_4079_1.RIGHT_C...       0\n",
       "2185       13115  DDSM Dataset/Benign Masses\\D4_D_4079_1.RIGHT_M...       0\n",
       "2186       13121  DDSM Dataset/Benign Masses\\D4_D_4092_1.LEFT_CC...       0\n",
       "2187       13127  DDSM Dataset/Benign Masses\\D4_D_4092_1.LEFT_ML...       0\n",
       "\n",
       "[2188 rows x 3 columns]"
      ]
     },
     "execution_count": 71,
     "metadata": {},
     "output_type": "execute_result"
    }
   ],
   "source": [
    "meta = pd.read_csv('data_origin_paper.csv')\n",
    "meta"
   ]
  },
  {
   "cell_type": "code",
   "execution_count": 72,
   "metadata": {},
   "outputs": [
    {
     "data": {
      "text/plain": [
       "status\n",
       "1    1193\n",
       "0     995\n",
       "Name: count, dtype: int64"
      ]
     },
     "execution_count": 72,
     "metadata": {},
     "output_type": "execute_result"
    }
   ],
   "source": [
    "meta.status.value_counts()"
   ]
  },
  {
   "cell_type": "code",
   "execution_count": 73,
   "metadata": {},
   "outputs": [],
   "source": [
    "train_b, test_b = train_test_split(meta[meta.status == 0], test_size=0.5, random_state=42)\n",
    "train_m, test_m = train_test_split(meta[meta.status == 1], test_size=0.5, random_state=42)"
   ]
  },
  {
   "cell_type": "code",
   "execution_count": 74,
   "metadata": {},
   "outputs": [
    {
     "data": {
      "text/plain": [
       "status\n",
       "1    596\n",
       "Name: count, dtype: int64"
      ]
     },
     "execution_count": 74,
     "metadata": {},
     "output_type": "execute_result"
    }
   ],
   "source": [
    "train_m.status.value_counts()"
   ]
  },
  {
   "cell_type": "code",
   "execution_count": 75,
   "metadata": {},
   "outputs": [],
   "source": [
    "train = pd.concat([train_b, train_m]).sample(frac=1).reset_index()\n",
    "test = pd.concat([test_b, test_m]).sample(frac=1).reset_index()"
   ]
  },
  {
   "cell_type": "code",
   "execution_count": 76,
   "metadata": {},
   "outputs": [
    {
     "data": {
      "text/plain": [
       "status\n",
       "1    596\n",
       "0    497\n",
       "Name: count, dtype: int64"
      ]
     },
     "execution_count": 76,
     "metadata": {},
     "output_type": "execute_result"
    }
   ],
   "source": [
    "train.status.value_counts()"
   ]
  },
  {
   "cell_type": "code",
   "execution_count": 77,
   "metadata": {},
   "outputs": [
    {
     "data": {
      "text/plain": [
       "status\n",
       "1    597\n",
       "0    498\n",
       "Name: count, dtype: int64"
      ]
     },
     "execution_count": 77,
     "metadata": {},
     "output_type": "execute_result"
    }
   ],
   "source": [
    "test.status.value_counts()"
   ]
  },
  {
   "cell_type": "code",
   "execution_count": 78,
   "metadata": {},
   "outputs": [],
   "source": [
    "train.to_csv('train.csv')"
   ]
  },
  {
   "cell_type": "code",
   "execution_count": 79,
   "metadata": {},
   "outputs": [],
   "source": [
    "test.to_csv('test.csv')"
   ]
  },
  {
   "cell_type": "code",
   "execution_count": 80,
   "metadata": {},
   "outputs": [
    {
     "data": {
      "text/plain": [
       "1093"
      ]
     },
     "execution_count": 80,
     "metadata": {},
     "output_type": "execute_result"
    }
   ],
   "source": [
    "len(train)"
   ]
  },
  {
   "cell_type": "code",
   "execution_count": 81,
   "metadata": {},
   "outputs": [],
   "source": [
    "train = pd.read_csv('train.csv')\n",
    "test = pd.read_csv('test.csv')\n"
   ]
  },
  {
   "cell_type": "code",
   "execution_count": 82,
   "metadata": {},
   "outputs": [
    {
     "data": {
      "text/plain": [
       "1093"
      ]
     },
     "execution_count": 82,
     "metadata": {},
     "output_type": "execute_result"
    }
   ],
   "source": [
    "len(train)"
   ]
  },
  {
   "cell_type": "code",
   "execution_count": 83,
   "metadata": {},
   "outputs": [
    {
     "data": {
      "text/plain": [
       "1095"
      ]
     },
     "execution_count": 83,
     "metadata": {},
     "output_type": "execute_result"
    }
   ],
   "source": [
    "len(test)"
   ]
  },
  {
   "cell_type": "code",
   "execution_count": 89,
   "metadata": {},
   "outputs": [],
   "source": [
    "data = []\n",
    "# Image roatation_120  roatation_240  clahe\n",
    "for i in train.index:\n",
    "    # Get image origin\n",
    "    data.append([train.Image[i], 0, 0, 0, train.status[i]])\n",
    "    data.append([train.Image[i], 0, 0, 1, train.status[i]])\n",
    "    # Get image roatation 120\n",
    "    data.append([train.Image[i], 1, 0, 0, train.status[i]])\n",
    "    data.append([train.Image[i], 1, 0, 1, train.status[i]])\n",
    "    # Get image roatation 240\n",
    "    data.append([train.Image[i], 0, 1, 0, train.status[i]])\n",
    "    data.append([train.Image[i], 0, 1, 1, train.status[i]])"
   ]
  },
  {
   "cell_type": "code",
   "execution_count": 90,
   "metadata": {},
   "outputs": [],
   "source": [
    "meta_new = pd.DataFrame(columns= ['Image', 'roatation_120',  'roatation_240' , 'clahe', 'status'], data=data)"
   ]
  },
  {
   "cell_type": "code",
   "execution_count": 91,
   "metadata": {},
   "outputs": [
    {
     "data": {
      "text/html": [
       "<div>\n",
       "<style scoped>\n",
       "    .dataframe tbody tr th:only-of-type {\n",
       "        vertical-align: middle;\n",
       "    }\n",
       "\n",
       "    .dataframe tbody tr th {\n",
       "        vertical-align: top;\n",
       "    }\n",
       "\n",
       "    .dataframe thead th {\n",
       "        text-align: right;\n",
       "    }\n",
       "</style>\n",
       "<table border=\"1\" class=\"dataframe\">\n",
       "  <thead>\n",
       "    <tr style=\"text-align: right;\">\n",
       "      <th></th>\n",
       "      <th>Image</th>\n",
       "      <th>roatation_120</th>\n",
       "      <th>roatation_240</th>\n",
       "      <th>clahe</th>\n",
       "      <th>status</th>\n",
       "    </tr>\n",
       "  </thead>\n",
       "  <tbody>\n",
       "    <tr>\n",
       "      <th>0</th>\n",
       "      <td>DDSM Dataset/Benign Masses\\D3_D_4082_1.LEFT_ML...</td>\n",
       "      <td>0</td>\n",
       "      <td>0</td>\n",
       "      <td>0</td>\n",
       "      <td>0</td>\n",
       "    </tr>\n",
       "    <tr>\n",
       "      <th>1</th>\n",
       "      <td>DDSM Dataset/Benign Masses\\D3_D_4082_1.LEFT_ML...</td>\n",
       "      <td>0</td>\n",
       "      <td>0</td>\n",
       "      <td>1</td>\n",
       "      <td>0</td>\n",
       "    </tr>\n",
       "    <tr>\n",
       "      <th>2</th>\n",
       "      <td>DDSM Dataset/Benign Masses\\D3_D_4082_1.LEFT_ML...</td>\n",
       "      <td>1</td>\n",
       "      <td>0</td>\n",
       "      <td>0</td>\n",
       "      <td>0</td>\n",
       "    </tr>\n",
       "    <tr>\n",
       "      <th>3</th>\n",
       "      <td>DDSM Dataset/Benign Masses\\D3_D_4082_1.LEFT_ML...</td>\n",
       "      <td>1</td>\n",
       "      <td>0</td>\n",
       "      <td>1</td>\n",
       "      <td>0</td>\n",
       "    </tr>\n",
       "    <tr>\n",
       "      <th>4</th>\n",
       "      <td>DDSM Dataset/Benign Masses\\D3_D_4082_1.LEFT_ML...</td>\n",
       "      <td>0</td>\n",
       "      <td>1</td>\n",
       "      <td>0</td>\n",
       "      <td>0</td>\n",
       "    </tr>\n",
       "    <tr>\n",
       "      <th>...</th>\n",
       "      <td>...</td>\n",
       "      <td>...</td>\n",
       "      <td>...</td>\n",
       "      <td>...</td>\n",
       "      <td>...</td>\n",
       "    </tr>\n",
       "    <tr>\n",
       "      <th>6553</th>\n",
       "      <td>DDSM Dataset/Benign Masses\\D3_B_3357_1.LEFT_ML...</td>\n",
       "      <td>0</td>\n",
       "      <td>0</td>\n",
       "      <td>1</td>\n",
       "      <td>0</td>\n",
       "    </tr>\n",
       "    <tr>\n",
       "      <th>6554</th>\n",
       "      <td>DDSM Dataset/Benign Masses\\D3_B_3357_1.LEFT_ML...</td>\n",
       "      <td>1</td>\n",
       "      <td>0</td>\n",
       "      <td>0</td>\n",
       "      <td>0</td>\n",
       "    </tr>\n",
       "    <tr>\n",
       "      <th>6555</th>\n",
       "      <td>DDSM Dataset/Benign Masses\\D3_B_3357_1.LEFT_ML...</td>\n",
       "      <td>1</td>\n",
       "      <td>0</td>\n",
       "      <td>1</td>\n",
       "      <td>0</td>\n",
       "    </tr>\n",
       "    <tr>\n",
       "      <th>6556</th>\n",
       "      <td>DDSM Dataset/Benign Masses\\D3_B_3357_1.LEFT_ML...</td>\n",
       "      <td>0</td>\n",
       "      <td>1</td>\n",
       "      <td>0</td>\n",
       "      <td>0</td>\n",
       "    </tr>\n",
       "    <tr>\n",
       "      <th>6557</th>\n",
       "      <td>DDSM Dataset/Benign Masses\\D3_B_3357_1.LEFT_ML...</td>\n",
       "      <td>0</td>\n",
       "      <td>1</td>\n",
       "      <td>1</td>\n",
       "      <td>0</td>\n",
       "    </tr>\n",
       "  </tbody>\n",
       "</table>\n",
       "<p>6558 rows × 5 columns</p>\n",
       "</div>"
      ],
      "text/plain": [
       "                                                  Image  roatation_120   \n",
       "0     DDSM Dataset/Benign Masses\\D3_D_4082_1.LEFT_ML...              0  \\\n",
       "1     DDSM Dataset/Benign Masses\\D3_D_4082_1.LEFT_ML...              0   \n",
       "2     DDSM Dataset/Benign Masses\\D3_D_4082_1.LEFT_ML...              1   \n",
       "3     DDSM Dataset/Benign Masses\\D3_D_4082_1.LEFT_ML...              1   \n",
       "4     DDSM Dataset/Benign Masses\\D3_D_4082_1.LEFT_ML...              0   \n",
       "...                                                 ...            ...   \n",
       "6553  DDSM Dataset/Benign Masses\\D3_B_3357_1.LEFT_ML...              0   \n",
       "6554  DDSM Dataset/Benign Masses\\D3_B_3357_1.LEFT_ML...              1   \n",
       "6555  DDSM Dataset/Benign Masses\\D3_B_3357_1.LEFT_ML...              1   \n",
       "6556  DDSM Dataset/Benign Masses\\D3_B_3357_1.LEFT_ML...              0   \n",
       "6557  DDSM Dataset/Benign Masses\\D3_B_3357_1.LEFT_ML...              0   \n",
       "\n",
       "      roatation_240  clahe  status  \n",
       "0                 0      0       0  \n",
       "1                 0      1       0  \n",
       "2                 0      0       0  \n",
       "3                 0      1       0  \n",
       "4                 1      0       0  \n",
       "...             ...    ...     ...  \n",
       "6553              0      1       0  \n",
       "6554              0      0       0  \n",
       "6555              0      1       0  \n",
       "6556              1      0       0  \n",
       "6557              1      1       0  \n",
       "\n",
       "[6558 rows x 5 columns]"
      ]
     },
     "execution_count": 91,
     "metadata": {},
     "output_type": "execute_result"
    }
   ],
   "source": [
    "meta_new"
   ]
  },
  {
   "cell_type": "code",
   "execution_count": 88,
   "metadata": {},
   "outputs": [],
   "source": [
    "meta_new.to_csv('train_aug.csv')"
   ]
  },
  {
   "cell_type": "code",
   "execution_count": null,
   "metadata": {},
   "outputs": [],
   "source": []
  }
 ],
 "metadata": {
  "kernelspec": {
   "display_name": "Python 3",
   "language": "python",
   "name": "python3"
  },
  "language_info": {
   "codemirror_mode": {
    "name": "ipython",
    "version": 3
   },
   "file_extension": ".py",
   "mimetype": "text/x-python",
   "name": "python",
   "nbconvert_exporter": "python",
   "pygments_lexer": "ipython3",
   "version": "3.10.4"
  },
  "orig_nbformat": 4
 },
 "nbformat": 4,
 "nbformat_minor": 2
}
