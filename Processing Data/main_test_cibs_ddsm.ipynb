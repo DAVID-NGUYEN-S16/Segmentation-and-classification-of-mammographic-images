{
 "cells": [
  {
   "cell_type": "code",
   "execution_count": null,
   "metadata": {},
   "outputs": [],
   "source": [
    "import cv2\n",
    "from PIL import Image, ImageOps\n",
    "import argparse\n",
    "import os\n",
    "import glob\n",
    "import matplotlib.pyplot as plt\n",
    "import multiprocessing as mp\n",
    "from joblib import Parallel, delayed\n",
    "import pydicom\n",
    "import time\n",
    "import numpy as np\n",
    "import torch\n",
    "import random\n",
    "import pandas as pd\n",
    "from pydicom.pixel_data_handlers import apply_windowing\n",
    "import imageio\n",
    "import time\n",
    "from tqdm.notebook import tqdm\n",
    "\n",
    "import shutil"
   ]
  },
  {
   "cell_type": "code",
   "execution_count": null,
   "metadata": {},
   "outputs": [],
   "source": [
    "meta = pd.read_csv('mass_case_description_test_set.csv')\n",
    "meta"
   ]
  },
  {
   "cell_type": "code",
   "execution_count": null,
   "metadata": {},
   "outputs": [],
   "source": [
    "meta['id'] = meta['image file path'].apply(lambda x: x.split('/')[0])\n"
   ]
  },
  {
   "cell_type": "code",
   "execution_count": null,
   "metadata": {},
   "outputs": [],
   "source": [
    "test.to_csv('test_aug_cibs_ddsm1.csv')"
   ]
  },
  {
   "cell_type": "markdown",
   "metadata": {},
   "source": [
    "### Convert image to png and storage"
   ]
  },
  {
   "cell_type": "code",
   "execution_count": null,
   "metadata": {},
   "outputs": [],
   "source": [
    "def get_all_files_in_folder(folder_path):\n",
    "    # print(folder_path)\n",
    "    all_files = []\n",
    "    for root, _, files in os.walk(folder_path):\n",
    "        for file in files:\n",
    "            file_path = os.path.join(root, file)\n",
    "            all_files.append(file_path)\n",
    "    return all_files"
   ]
  },
  {
   "cell_type": "code",
   "execution_count": null,
   "metadata": {},
   "outputs": [],
   "source": []
  },
  {
   "cell_type": "code",
   "execution_count": null,
   "metadata": {},
   "outputs": [],
   "source": [
    "# kiểm tra coi folder nào có 4 ảnh \n",
    "for i in meta['image file path']:\n",
    "    name = i.split('/')[0]\n",
    "    for x in range(1, 10):\n",
    "        if os.path.exists(f'E:/Test-Mass-Roi/manifest-OlX3eVq41551709337535597984/CBIS-DDSM/{name}_{x}/'):\n",
    "            ls =  len(get_all_files_in_folder(f'E:/Test-Mass-Roi/manifest-OlX3eVq41551709337535597984/CBIS-DDSM/{name}_{x}/'))\n",
    "            # print(ls)\n",
    "            if ls == 1:\n",
    "                print('++++++++++++++++++++++++++++')\n",
    "                print(ls)\n",
    "                print(f'E:/Test-Mass-Roi/manifest-OlX3eVq41551709337535597984/CBIS-DDSM/{name}_{x}/')\n",
    "            if ls > 2:\n",
    "                print('++++++++++++++++++++++++++++')\n",
    "                print(ls)\n",
    "                print(f'E:/Test-Mass-Roi/manifest-OlX3eVq41551709337535597984/CBIS-DDSM{name}_{x}/')"
   ]
  },
  {
   "cell_type": "code",
   "execution_count": null,
   "metadata": {},
   "outputs": [],
   "source": [
    "def procees_dcm(path):\n",
    "    \n",
    "    dicom = pydicom.dcmread(path)\n",
    "    # try : \n",
    "    img = dicom.pixel_array\n",
    "        \n",
    "    img = apply_windowing(img, dicom)\n",
    "    img = (img - img.min()) / (img.max() - img.min())\n",
    "\n",
    "    if dicom.PhotometricInterpretation == \"MONOCHROME1\":  \n",
    "        img = 1 - img\n",
    "    image = np.uint8(img * 255)\n",
    "    return image"
   ]
  },
  {
   "cell_type": "code",
   "execution_count": null,
   "metadata": {},
   "outputs": [],
   "source": [
    "# Lấy tất cả các file trong ảnh full\n",
    "def get_image(path_name, path_name_mask, path_origin, path_origin_mask):\n",
    "    # df = pd.DataFrame(columns=['Image', 'Crop', 'Mask'])\n",
    "    if os.path.exists('Test/Meta_data_test/') ==False: os.makedirs('Test/Meta_data_test/')\n",
    "    if os.path.exists('Test/Roi_test/') ==False: os.makedirs('Test/Roi_test/')\n",
    "    if os.path.exists('Test/Image_test/') ==False: os.makedirs('Test/Image_test/')\n",
    "    if os.path.exists('Test/Mask_test/') ==False: os.makedirs('Test/Mask_test/')\n",
    "    paths = get_all_files_in_folder(f'{path_origin}/{path_name}')\n",
    "    # processing img full \n",
    "    if len(paths) > 1:\n",
    "        print(f'{path_name} has 2 image in img full')\n",
    "    sz_img = 0\n",
    "    for path in paths:\n",
    "        if os.path.exists(f'Test/Meta_data_test/{path_name}/{path_name}.png') : \n",
    "            sz_img = cv2.imread(f'Test/Meta_data_test/{path_name}/{path_name}.png').shape\n",
    "            continue\n",
    "        # if os.path.exists(f'Test/Meta_data_test/{path_name}/') == False: os.makedirs(f'Test/Meta_data_test/{path_name}/')\n",
    "        img = procees_dcm(path)\n",
    "        sz_img = img.shape\n",
    "        imageio.imwrite(f'Test/Meta_data_test/{path_name}.png', img)\n",
    "        # imageio.imwrite(f'Test/Image_test/{path_name}.png', img)\n",
    "    # Processing image mask\n",
    "    paths_mask = get_all_files_in_folder(f'{path_origin_mask}/{path_name_mask}')\n",
    "    print(f'{path_origin_mask}/{path_name_mask}')\n",
    "    print(len(paths_mask))\n",
    "    print(paths_mask)\n",
    "    for mask in paths_mask:\n",
    "        img = procees_dcm(mask)\n",
    "        path_mask = f'Test/Meta_data_test/{path_name}/{path_name_mask}_mask.png'\n",
    "        path_roi = f'Test/Meta_data_test/{path_name}/{path_name_mask}_roi.png'\n",
    "        # print(sz_img ,  img)\n",
    "        # print(sz_img , img.shape)\n",
    "        if sz_img == img.shape or (sz_img[0] == img.shape[0] and sz_img[1] == img.shape[1] ):\n",
    "            # print(f'Mask/{path_name_mask}_mask.png')\n",
    "            imageio.imwrite(path_mask, img)\n",
    "            imageio.imwrite(f'Test/Mask_test/{path_name_mask}_mask.png', img)\n",
    "        else:\n",
    "            # print(f'Roi/{path_name_mask}_roi.png')\n",
    "            imageio.imwrite(path_roi, img)\n",
    "            imageio.imwrite(f'Test/Roi_test/{path_name_mask}_roi.png', img)\n",
    "    \n",
    "    \n",
    "        "
   ]
  },
  {
   "cell_type": "code",
   "execution_count": null,
   "metadata": {},
   "outputs": [],
   "source": [
    "from tqdm.notebook import tqdm\n"
   ]
  },
  {
   "cell_type": "code",
   "execution_count": null,
   "metadata": {},
   "outputs": [],
   "source": [
    "for i in tqdm(meta.index):\n",
    "    path_name = meta['image file path'][i].split('/')[0]\n",
    "    path_name_mask = meta['ROI mask file path'][i].split('/')[0]\n",
    "    # print(path_name_mask) E:/Processing Data\\Test-Mass-Roi\\manifest-OlX3eVq41551709337535597984\\CBIS-DDSM\n",
    "    path_origin = 'Test-Mass/manifest-KlyiOp8o8257600061251652132/CBIS-DDSM'\n",
    "    path_origin_mask = 'Test-Mass-Roi/manifest-OlX3eVq41551709337535597984/CBIS-DDSM'\n",
    "    get_image(path_name=path_name, path_name_mask=path_name_mask, path_origin=path_origin, path_origin_mask =path_origin_mask)"
   ]
  },
  {
   "cell_type": "code",
   "execution_count": null,
   "metadata": {},
   "outputs": [],
   "source": [
    "meta['Image'] = meta['image file path'].apply(lambda x: x.split('/')[0])"
   ]
  },
  {
   "cell_type": "code",
   "execution_count": null,
   "metadata": {},
   "outputs": [],
   "source": [
    "meta.pathology.value_counts()"
   ]
  },
  {
   "cell_type": "code",
   "execution_count": null,
   "metadata": {},
   "outputs": [],
   "source": [
    "cag = {'BENIGN': 0, 'BENIGN_WITHOUT_CALLBACK': 0, 'MALIGNANT':1}"
   ]
  },
  {
   "cell_type": "code",
   "execution_count": null,
   "metadata": {},
   "outputs": [],
   "source": [
    "meta['status'] = meta.pathology.apply(lambda x: cag[x])"
   ]
  },
  {
   "cell_type": "code",
   "execution_count": null,
   "metadata": {},
   "outputs": [],
   "source": [
    "meta = meta[['Image', 'status']]\n",
    "meta"
   ]
  },
  {
   "cell_type": "markdown",
   "metadata": {},
   "source": [
    "### Combine alls in to mask"
   ]
  },
  {
   "cell_type": "code",
   "execution_count": null,
   "metadata": {},
   "outputs": [],
   "source": [
    "meta['id_image'] = meta['image file path'].apply(lambda x: x.split('/')[0])"
   ]
  },
  {
   "cell_type": "code",
   "execution_count": null,
   "metadata": {},
   "outputs": [],
   "source": [
    "image = np.unique(meta['id_image'])"
   ]
  },
  {
   "cell_type": "code",
   "execution_count": null,
   "metadata": {},
   "outputs": [],
   "source": [
    "len(image)"
   ]
  },
  {
   "cell_type": "code",
   "execution_count": null,
   "metadata": {},
   "outputs": [],
   "source": [
    "image_path = r'E:\\Processing Data\\Meta_data\\Mass-Training_P_00001_LEFT_CC\\Mass-Training_P_00001_LEFT_CC_1_mask.png'\n",
    "original_image = cv2.imread(image_path, cv2.IMREAD_GRAYSCALE)\n",
    "\n",
    "# Create a new blank image with the same size\n",
    "blank_image = original_image.copy()\n",
    "\n",
    "# Fill the blank image with zeros (black)\n",
    "blank_image.fill(0)\n",
    "plt.imshow(blank_image)"
   ]
  },
  {
   "cell_type": "code",
   "execution_count": null,
   "metadata": {},
   "outputs": [],
   "source": [
    "blank_image =  cv2.cvtColor(blank_image, cv2.COLOR_GRAY2RGB)"
   ]
  },
  {
   "cell_type": "code",
   "execution_count": null,
   "metadata": {},
   "outputs": [],
   "source": [
    "image1 = r'E:\\Processing Data\\Meta_data\\Mass-Training_P_00001_LEFT_CC\\Mass-Training_P_00001_LEFT_CC_1_mask.png'\n",
    "img = cv2.imread(image1)\n",
    "plt.imshow(blank_image + img)"
   ]
  },
  {
   "cell_type": "code",
   "execution_count": null,
   "metadata": {},
   "outputs": [],
   "source": [
    "data = []\n",
    "'''\n",
    "Make sure all mask is true \n",
    "'''\n",
    "for i in tqdm(image):\n",
    "    paths = glob.glob(f'Meta_data_test/{i}/*')\n",
    "    original_image = cv2.imread(f'Meta_data_test/{i}/{i}.png')\n",
    "    blank_image = original_image.copy()\n",
    "    blank_image.fill(0)\n",
    "    if len(blank_image.shape) < 3: blank_image =  cv2.cvtColor(blank_image, cv2.COLOR_GRAY2RGB)\n",
    "    # print(blank_image.shape)\n",
    "    cnt = 0\n",
    "    # print(paths)\n",
    "    for path in paths:\n",
    "        if 'mask' in path:\n",
    "            cnt+=1\n",
    "            img = cv2.imread(path)\n",
    "            blank_image += img\n",
    "    # print(cnt)\n",
    "    if cnt > 0:\n",
    "        print(f'Meta_data_test/{i}/{i}.png')\n",
    "        data.append([f'Meta_data_test/{i}/{i}.png', f'Meta_data_test/{i}/{i}_mask.png'])\n",
    "        imageio.imwrite(f'Meta_data_test/{i}/{i}_mask.png', blank_image)"
   ]
  },
  {
   "cell_type": "code",
   "execution_count": null,
   "metadata": {},
   "outputs": [],
   "source": [
    "meta_seg = pd.DataFrame(columns=['Image', 'Mask'], data=data)"
   ]
  },
  {
   "cell_type": "code",
   "execution_count": null,
   "metadata": {},
   "outputs": [],
   "source": [
    "meta_seg"
   ]
  },
  {
   "cell_type": "code",
   "execution_count": null,
   "metadata": {},
   "outputs": [],
   "source": [
    "meta_seg.to_csv('meta_seg_test.csv')"
   ]
  },
  {
   "cell_type": "code",
   "execution_count": null,
   "metadata": {},
   "outputs": [],
   "source": [
    "meta_seg = pd.read_csv('meta_seg_test.csv')"
   ]
  },
  {
   "cell_type": "code",
   "execution_count": null,
   "metadata": {},
   "outputs": [],
   "source": [
    "meta_seg"
   ]
  },
  {
   "cell_type": "code",
   "execution_count": null,
   "metadata": {},
   "outputs": [],
   "source": [
    "for path in meta_seg.Mask:\n",
    "    img = cv2.imread(path)\n",
    "    name = os.path.basename(path)\n",
    "    imageio.imwrite(f'E:/Processing Data/Mask_test_full/{name}', img)"
   ]
  },
  {
   "cell_type": "code",
   "execution_count": null,
   "metadata": {},
   "outputs": [],
   "source": []
  }
 ],
 "metadata": {
  "kernelspec": {
   "display_name": "Python 3",
   "language": "python",
   "name": "python3"
  },
  "language_info": {
   "codemirror_mode": {
    "name": "ipython",
    "version": 3
   },
   "file_extension": ".py",
   "mimetype": "text/x-python",
   "name": "python",
   "nbconvert_exporter": "python",
   "pygments_lexer": "ipython3",
   "version": "3.10.4"
  },
  "orig_nbformat": 4
 },
 "nbformat": 4,
 "nbformat_minor": 2
}
