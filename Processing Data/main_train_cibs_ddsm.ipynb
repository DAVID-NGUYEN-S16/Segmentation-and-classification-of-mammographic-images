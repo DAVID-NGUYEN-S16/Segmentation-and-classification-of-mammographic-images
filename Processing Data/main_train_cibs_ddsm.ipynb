{
 "cells": [
  {
   "cell_type": "code",
   "execution_count": null,
   "metadata": {},
   "outputs": [],
   "source": [
    "import cv2\n",
    "from PIL import Image, ImageOps\n",
    "import argparse\n",
    "import os\n",
    "import glob\n",
    "import matplotlib.pyplot as plt\n",
    "import multiprocessing as mp\n",
    "from joblib import Parallel, delayed\n",
    "import pydicom\n",
    "import time\n",
    "import numpy as np\n",
    "import torch\n",
    "import random\n",
    "import pandas as pd\n",
    "from pydicom.pixel_data_handlers import apply_windowing\n",
    "import imageio\n",
    "import time\n",
    "from tqdm.notebook import tqdm\n",
    "\n",
    "import shutil"
   ]
  },
  {
   "cell_type": "code",
   "execution_count": null,
   "metadata": {},
   "outputs": [],
   "source": [
    "meta = pd.read_csv('mass_case_description_train_set.csv')"
   ]
  },
  {
   "cell_type": "code",
   "execution_count": null,
   "metadata": {},
   "outputs": [],
   "source": [
    "meta['id'] = meta['image file path'].apply(lambda x: x.split('/')[0])"
   ]
  },
  {
   "cell_type": "code",
   "execution_count": null,
   "metadata": {},
   "outputs": [],
   "source": [
    "train.to_csv('train_aug_cibs_ddsm1.csv')"
   ]
  },
  {
   "cell_type": "markdown",
   "metadata": {},
   "source": [
    "### Convert image to png and storage"
   ]
  },
  {
   "cell_type": "code",
   "execution_count": null,
   "metadata": {},
   "outputs": [],
   "source": [
    "def get_all_files_in_folder(folder_path):\n",
    "    # print(folder_path)\n",
    "    all_files = []\n",
    "    for root, _, files in os.walk(folder_path):\n",
    "        for file in files:\n",
    "            file_path = os.path.join(root, file)\n",
    "            all_files.append(file_path)\n",
    "    return all_files"
   ]
  },
  {
   "cell_type": "code",
   "execution_count": null,
   "metadata": {},
   "outputs": [],
   "source": [
    "get_all_files_in_folder('Train-Mass-Roi/manifest-LyDgOQGl3853937313152078328/CBIS-DDSM/Mass-Training_P_00001_LEFT_CC/')\n",
    "get_all_files_in_folder('Train-Mass-Roi\\manifest-LyDgOQGl3853937313152078328\\CBIS-DDSM\\Mass-Training_P_00001_LEFT_CC_1')"
   ]
  },
  {
   "cell_type": "code",
   "execution_count": null,
   "metadata": {},
   "outputs": [],
   "source": [
    "# kiểm tra coi folder nào có 4 ảnh \n",
    "for i in meta['image file path']:\n",
    "    name = i.split('/')[0]\n",
    "    for x in range(1, 10):\n",
    "        if os.path.exists(f'Train-Mass-Roi/manifest-LyDgOQGl3853937313152078328/CBIS-DDSM/{name}_{x}/'):\n",
    "            ls =  len(get_all_files_in_folder(f'Train-Mass-Roi/manifest-LyDgOQGl3853937313152078328/CBIS-DDSM/{name}_{x}/'))\n",
    "            if ls == 1:\n",
    "                print('++++++++++++++++++++++++++++')\n",
    "                print(ls)\n",
    "                print(f'Train-Mass-Roi/manifest-LyDgOQGl3853937313152078328/CBIS-DDSM/{name}_{x}/')\n",
    "            if ls > 2:\n",
    "                print('++++++++++++++++++++++++++++')\n",
    "                print(ls)\n",
    "                print(f'Train-Mass-Roi/manifest-LyDgOQGl3853937313152078328/CBIS-DDSM/{name}_{x}/')"
   ]
  },
  {
   "cell_type": "code",
   "execution_count": null,
   "metadata": {},
   "outputs": [],
   "source": [
    "# Convert DICOM image to PNG image\n",
    "def procees_dcm(path):\n",
    "    \n",
    "    dicom = pydicom.dcmread(path)\n",
    "    # try : \n",
    "    img = dicom.pixel_array\n",
    "        \n",
    "    img = apply_windowing(img, dicom)\n",
    "    img = (img - img.min()) / (img.max() - img.min())\n",
    "\n",
    "    if dicom.PhotometricInterpretation == \"MONOCHROME1\":  \n",
    "        img = 1 - img\n",
    "    image = np.uint8(img * 255)\n",
    "    return image"
   ]
  },
  {
   "cell_type": "code",
   "execution_count": null,
   "metadata": {},
   "outputs": [],
   "source": [
    "# Get image in folder origin and processing image to png\n",
    "# We will get image and mask \n",
    "def get_image(path_name, path_name_mask, path_origin, path_origin_mask):\n",
    "    df = pd.DataFrame(columns=['Image', 'Crop', 'Mask'])\n",
    "    if os.path.exists('Train/Meta_data/') ==False: os.makedirs('Train/Meta_data/')\n",
    "    if os.path.exists('Train/Roi/') ==False: os.makedirs('Train/Roi/')\n",
    "    if os.path.exists('Train/Image/') ==False: os.makedirs('Train/Image/')\n",
    "    if os.path.exists('Train/Mask/') ==False: os.makedirs('Train/Mask/')\n",
    "    paths = get_all_files_in_folder(f'{path_origin}/{path_name}')\n",
    "    if len(paths) > 1:\n",
    "        print(f'{path_name} has 2 image in img full')\n",
    "    sz_img = 0\n",
    "    for path in paths:\n",
    "        if os.path.exists(f'Train/Meta_data/{path_name}.png') : \n",
    "            sz_img = cv2.imread(f'Train/Meta_data/{path_name}.png').shape\n",
    "            continue\n",
    "        if os.path.exists(f'Train/Meta_data/') == False: os.makedirs(f'Train/Meta_data/')\n",
    "        img = procees_dcm(path)\n",
    "        sz_img = img.shape\n",
    "        imageio.imwrite(f'Train/Meta_data/{path_name}.png', img)\n",
    "        # imageio.imwrite(f'Image/{path_name}.png', img)\n",
    "    # Processing image mask\n",
    "    paths_mask = get_all_files_in_folder(f'{path_origin_mask}/{path_name_mask}')\n",
    "    print(f'{path_origin_mask}/{path_name_mask}')\n",
    "    print(len(paths_mask))\n",
    "    print(paths_mask)\n",
    "    for mask in paths_mask:\n",
    "        img = procees_dcm(mask)\n",
    "        path_mask = f'Train/Meta_data/{path_name}/{path_name_mask}_mask.png'\n",
    "        path_roi = f'Train/Meta_data/{path_name}/{path_name_mask}_roi.png'\n",
    "        # print(sz_img ,  img)\n",
    "        # print(sz_img , img.shape)\n",
    "        if sz_img == img.shape or (sz_img[0] == img.shape[0] and sz_img[1] == img.shape[1] ):\n",
    "            # print(f'Mask/{path_name_mask}_mask.png')\n",
    "            imageio.imwrite(path_mask, img)\n",
    "            imageio.imwrite(f'Train/Mask/{path_name_mask}_mask.png', img)\n",
    "        else:\n",
    "            # print(f'Roi/{path_name_mask}_roi.png')\n",
    "            imageio.imwrite(path_roi, img)\n",
    "            imageio.imwrite(f'Train/Roi/{path_name_mask}_roi.png', img)\n",
    "    \n",
    "    \n",
    "        "
   ]
  },
  {
   "cell_type": "code",
   "execution_count": null,
   "metadata": {},
   "outputs": [],
   "source": [
    "from tqdm.notebook import tqdm\n"
   ]
  },
  {
   "cell_type": "code",
   "execution_count": null,
   "metadata": {},
   "outputs": [],
   "source": [
    "for i in tqdm(meta.index):\n",
    "    path_name = meta['image file path'][i].split('/')[0]\n",
    "    path_name_mask = meta['ROI mask file path'][i].split('/')[0]\n",
    "    # print(path_name_mask)\n",
    "    path_origin = 'Train-Mass/manifest-Egq0PU078220738724328010106/CBIS-DDSM'\n",
    "    path_origin_mask = 'Train-Mass-Roi/manifest-LyDgOQGl3853937313152078328/CBIS-DDSM'\n",
    "    get_image(path_name=path_name, path_name_mask=path_name_mask, path_origin=path_origin, path_origin_mask =path_origin_mask)"
   ]
  },
  {
   "cell_type": "markdown",
   "metadata": {},
   "source": [
    "### Combine alls in to mask"
   ]
  },
  {
   "cell_type": "code",
   "execution_count": null,
   "metadata": {},
   "outputs": [],
   "source": [
    "meta['id_image'] = meta['image file path'].apply(lambda x: x.split('/')[0])"
   ]
  },
  {
   "cell_type": "code",
   "execution_count": null,
   "metadata": {},
   "outputs": [],
   "source": [
    "image = np.unique(meta['id_image'])"
   ]
  },
  {
   "cell_type": "code",
   "execution_count": null,
   "metadata": {},
   "outputs": [],
   "source": [
    "data = []\n",
    "'''\n",
    "Make sure all mask is true \n",
    "'''\n",
    "for i in tqdm(image):\n",
    "    paths = glob.glob(f'Meta_data/{i}/*')\n",
    "    original_image = cv2.imread(f'Meta_data/{i}/{i}.png')\n",
    "    blank_image = original_image.copy()\n",
    "    blank_image.fill(0)\n",
    "    if len(blank_image.shape) < 3: blank_image =  cv2.cvtColor(blank_image, cv2.COLOR_GRAY2RGB)\n",
    "    # print(blank_image.shape)\n",
    "    cnt = 0\n",
    "    # print(paths)\n",
    "    for path in paths:\n",
    "        if 'mask' in path:\n",
    "            cnt+=1\n",
    "            img = cv2.imread(path)\n",
    "            blank_image += img\n",
    "    # print(cnt)\n",
    "    if cnt > 0:\n",
    "        print(f'Meta_data/{i}/{i}.png')\n",
    "        data.append([f'Meta_data/{i}/{i}.png', f'Meta_data/{i}/{i}_mask.png'])\n",
    "        imageio.imwrite(f'Meta_data/{i}/{i}_mask.png', blank_image)"
   ]
  },
  {
   "cell_type": "code",
   "execution_count": null,
   "metadata": {},
   "outputs": [],
   "source": [
    "meta_seg = pd.DataFrame(columns=['Image', 'Mask'], data=data)"
   ]
  },
  {
   "cell_type": "code",
   "execution_count": null,
   "metadata": {},
   "outputs": [],
   "source": [
    "meta_seg"
   ]
  },
  {
   "cell_type": "code",
   "execution_count": null,
   "metadata": {},
   "outputs": [],
   "source": [
    "meta_seg.to_csv('meta_seg.csv')"
   ]
  },
  {
   "cell_type": "code",
   "execution_count": null,
   "metadata": {},
   "outputs": [],
   "source": [
    "for path in meta_seg.Mask:\n",
    "    img = cv2.imread(path)\n",
    "    name = os.path.basename(path)\n",
    "    imageio.imwrite(f'E:/Processing Data/Mask_full/{name}', img)"
   ]
  }
 ],
 "metadata": {
  "kernelspec": {
   "display_name": "Python 3",
   "language": "python",
   "name": "python3"
  },
  "language_info": {
   "codemirror_mode": {
    "name": "ipython",
    "version": 3
   },
   "file_extension": ".py",
   "mimetype": "text/x-python",
   "name": "python",
   "nbconvert_exporter": "python",
   "pygments_lexer": "ipython3",
   "version": "3.10.4"
  },
  "orig_nbformat": 4
 },
 "nbformat": 4,
 "nbformat_minor": 2
}
